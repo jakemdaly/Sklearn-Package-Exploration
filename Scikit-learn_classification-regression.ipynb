{
 "cells": [
  {
   "cell_type": "markdown",
   "metadata": {},
   "source": [
    "# Scikit-Learn: Classification and Regression Models & Examples\n",
    "\n",
    "This notebook will explore various classification and regression techniques available through the scikit-learn python library. The techniques covered in this notebook are:\n",
    "- Nearest neighbor (NN)\n",
    "- Naive Bayes\n",
    "- Logistic regression\n",
    "- Support vector machines (SVM)\n",
    "- Decision trees/random forrest\n",
    "\n",
    "The dataset that we will use are the MNIST handwritten digits"
   ]
  },
  {
   "cell_type": "code",
   "execution_count": 1,
   "metadata": {},
   "outputs": [
    {
     "name": "stdout",
     "output_type": "stream",
     "text": [
      "\n",
      "MNIST data sizes:\n",
      "\timages_train: (1437, 64)\n",
      "\timlabels_train: (1437,)\n",
      "\timages_test: (360, 64)\n",
      "\timlabels_test: (360,)\n",
      "\n",
      "\n"
     ]
    },
    {
     "data": {
      "text/plain": [
       "<Figure size 640x480 with 1 Axes>"
      ]
     },
     "metadata": {},
     "output_type": "display_data"
    },
    {
     "name": "stdout",
     "output_type": "stream",
     "text": [
      "This is a number 2 from the MNIST data set\n",
      "\n",
      "\n",
      "Boston data sizes:\n",
      "\tfeatures_train: (404, 13)\n",
      "\tprices_train: (404,)\n",
      "\tfeatures_test: (102, 13)\n",
      "\tprices_test: (102,)\n",
      ".. _boston_dataset:\n",
      "\n",
      "Boston house prices dataset\n",
      "---------------------------\n",
      "\n",
      "**Data Set Characteristics:**  \n",
      "\n",
      "    :Number of Instances: 506 \n",
      "\n",
      "    :Number of Attributes: 13 numeric/categorical predictive. Median Value (attribute 14) is usually the target.\n",
      "\n",
      "    :Attribute Information (in order):\n",
      "        - CRIM     per capita crime rate by town\n",
      "        - ZN       proportion of residential land zoned for lots over 25,000 sq.ft.\n",
      "        - INDUS    proportion of non-retail business acres per town\n",
      "        - CHAS     Charles River dummy variable (= 1 if tract bounds river; 0 otherwise)\n",
      "        - NOX      nitric oxides concentration (parts per 10 million)\n",
      "        - RM       average number of rooms per dwelling\n",
      "        - AGE      proportion of owner-occupied units built prior to 1940\n",
      "        - DIS      weighted distances to five Boston employment centres\n",
      "        - RAD      index of accessibility to radial highways\n",
      "        - TAX      full-value property-tax rate per $10,000\n",
      "        - PTRATIO  pupil-teacher ratio by town\n",
      "        - B        1000(Bk - 0.63)^2 where Bk is the proportion of blacks by town\n",
      "        - LSTAT    % lower status of the population\n",
      "        - MEDV     Median value of owner-occupied homes in $1000's\n",
      "\n",
      "    :Missing Attribute Values: None\n",
      "\n",
      "    :Creator: Harrison, D. and Rubinfeld, D.L.\n",
      "\n",
      "This is a copy of UCI ML housing dataset.\n",
      "https://archive.ics.uci.edu/ml/machine-learning-databases/housing/\n",
      "\n",
      "\n",
      "This dataset was taken from the StatLib library which is maintained at Carnegie Mellon University.\n",
      "\n",
      "The Boston house-price data of Harrison, D. and Rubinfeld, D.L. 'Hedonic\n",
      "prices and the demand for clean air', J. Environ. Economics & Management,\n",
      "vol.5, 81-102, 1978.   Used in Belsley, Kuh & Welsch, 'Regression diagnostics\n",
      "...', Wiley, 1980.   N.B. Various transformations are used in the table on\n",
      "pages 244-261 of the latter.\n",
      "\n",
      "The Boston house-price data has been used in many machine learning papers that address regression\n",
      "problems.   \n",
      "     \n",
      ".. topic:: References\n",
      "\n",
      "   - Belsley, Kuh & Welsch, 'Regression diagnostics: Identifying Influential Data and Sources of Collinearity', Wiley, 1980. 244-261.\n",
      "   - Quinlan,R. (1993). Combining Instance-Based and Model-Based Learning. In Proceedings on the Tenth International Conference of Machine Learning, 236-243, University of Massachusetts, Amherst. Morgan Kaufmann.\n",
      "\n"
     ]
    }
   ],
   "source": [
    "import numpy as np\n",
    "import gzip\n",
    "import matplotlib.pyplot as plt\n",
    "from sklearn.model_selection import train_test_split\n",
    "from sklearn import datasets\n",
    "\n",
    "############################################################\n",
    "# Load and organize our MNIST handwritten digit image data #\n",
    "############################################################\n",
    "\n",
    "data = datasets.load_digits()\n",
    "images = data.images\n",
    "targets = data.target\n",
    "\n",
    "# Split into train and test sets\n",
    "images_train, images_test, imlabels_train, imlabels_test = train_test_split(images, targets, test_size=.2, shuffle=False)\n",
    "\n",
    "\n",
    "\n",
    "# Re-shape data so that it's 2D\n",
    "images_train = np.reshape(images_train, (np.shape(images_train)[0], 64))\n",
    "images_test = np.reshape(images_test, (np.shape(images_test)[0], 64))\n",
    "\n",
    "print(f\"\\nMNIST data sizes:\")\n",
    "print(f\"\\timages_train: {np.shape(images_train)}\")\n",
    "print(f\"\\timlabels_train: {np.shape(imlabels_train)}\")\n",
    "print(f\"\\timages_test: {np.shape(images_test)}\")\n",
    "print(f\"\\timlabels_test: {np.shape(imlabels_test)}\\n\\n\")\n",
    "\n",
    "# Plot one of the digits \n",
    "image = np.asarray(images[2]).squeeze()\n",
    "plt.imshow(image)\n",
    "plt.show()\n",
    "print(f\"This is a number {targets[2]} from the MNIST data set\")\n",
    "\n",
    "##############################################################################\n",
    "# Now for our Boston house pricing data (for use in the regression problems) #\n",
    "##############################################################################\n",
    "\n",
    "features, price = datasets.load_boston(return_X_y=True)\n",
    "\n",
    "features_train, features_test, prices_train, prices_test = train_test_split(features, price, test_size=.2, shuffle=False)\n",
    "\n",
    "\n",
    "\n",
    "# No need to reshape the data below because it was never 2D\n",
    "\n",
    "print(f\"\\n\\nBoston data sizes:\")\n",
    "print(f\"\\tfeatures_train: {np.shape(features_train)}\")\n",
    "print(f\"\\tprices_train: {np.shape(prices_train)}\")\n",
    "print(f\"\\tfeatures_test: {np.shape(features_test)}\")\n",
    "print(f\"\\tprices_test: {np.shape(prices_test)}\")\n",
    "\n",
    "print(datasets.load_boston().DESCR)"
   ]
  },
  {
   "cell_type": "markdown",
   "metadata": {},
   "source": [
    "## I. Nearest Neighbor Algorithm\n",
    "\n",
    "The nearest neighbor algorithm is one of the more basic classification techniques, and in some cases is actually used as a building block in other richer machine learning algorithms. It's simplicity, in some regard, is where it's power lies: it's fast to implement, and easy to understand. The algorithm looks at the Euclidean distance of given data point to it's nearest neighboring data points to help us gain an understanding of the information contained in the data point of interest. Data points with \"closer\" Euclidean distances are more likely to be similar than ones whose Euclidean distances are quite far. \n",
    "\n",
    "The nearest neighbor algorithm can come in a few different flavors.\n",
    "\n",
    "- **unsupervised**: we don't know the label of any of the neighboring data points\n",
    "\n",
    "- **supervised**: we do know the label of the neighboring data points\n",
    "\n",
    "    - **classification**: the data has a discrete and finite number of values it can take. In supervised nearest neighbor classification, we are typically aiming to predict the class of some data by taking a \"vote\" of the neighboring pixels. Which ever class receives the most votes, we classify our data as such\n",
    "    \n",
    "    - **regression**: the data can take any infinite number of values. In this scenario, we usually take an average of the values of the nearest neighbors\n",
    "    \n",
    "- **radius v.s. k-nearest neighbors**: this determines whether we are looking at a fixed number of neighbors, or all neighbors who are within a fixed distance\n",
    "\n",
    "\n",
    "Let's pick a sample image to plot the 9 nearest neighbors of it, so that we can get a feel for the ```neighbors``` interface and how we would use unsupervised learning to get a feel for our data, without actually know which labels the data corresponds to. "
   ]
  },
  {
   "cell_type": "code",
   "execution_count": 2,
   "metadata": {},
   "outputs": [
    {
     "data": {
      "text/plain": [
       "Text(0.5, 1.0, 'This is a number 7')"
      ]
     },
     "execution_count": 2,
     "metadata": {},
     "output_type": "execute_result"
    },
    {
     "data": {
      "image/png": "[encoded data removed]",
      "text/plain": [
       "<Figure size 432x288 with 1 Axes>"
      ]
     },
     "metadata": {
      "needs_background": "light"
     },
     "output_type": "display_data"
    }
   ],
   "source": [
    "# Display a digit in the training set\n",
    "seed = 43\n",
    "random_digit = images_train[seed] # get an image from out training images\n",
    "random_digit_label = imlabels_train[seed] # get it's corresponding label\n",
    "\n",
    "#Plot the image and display it's label\n",
    "fig = plt.figure()\n",
    "plt.imshow(random_digit.reshape(8,8))\n",
    "plt.title(f\"This is a number {random_digit_label}\")\n"
   ]
  },
  {
   "cell_type": "markdown",
   "metadata": {},
   "source": [
    "Now we can import ```NearestNeighbors```, which is the interface required when we are detecting nearest neighbors without their labels (ie. unsupervised)\n",
    "\n",
    "The key input parameters for the ```NearestNeighbors``` constructor is as follows:\n",
    "```NearestNeighbors(n_neighbors, algorithm).fit(data)```\n",
    "\n",
    "- ```n_neighbors```: number of neighbors we want to find, default: 5. You can also use ```radius``` instead to specify a radius instead of number of neighbors\n",
    "- ```algorithm```: which algorithm to use to search for the neighbors. Valid parameter values are ```auto```, ```ball_tree```, ```kd_tree```, ```brute```. Default is ```auto```, and that's what we will use in this notebook. The two tree searches are more efficient in certain scenarios which are beyond the scope of this notebook, so we'll let ```auto``` figure it out for us\n",
    "- ```.fit(data)```: the data set which will be used to find the nearest neighbors within\n",
    "\n",
    "After fitting the ```NearestNeighbors``` object to our dataset, we can call the object's ```.kneighbors``` method to specify the point who's neighbors we'd like to find, in our case the point ```random_digit```. This method will return two lists: one for the distances of the neighbors, and one for the indices in the neighbors in the input data that we ```.fit()``` our model to."
   ]
  },
  {
   "cell_type": "code",
   "execution_count": 3,
   "metadata": {},
   "outputs": [
    {
     "data": {
      "image/png": "[encoded data removed]",
      "text/plain": [
       "<Figure size 432x288 with 9 Axes>"
      ]
     },
     "metadata": {
      "needs_background": "light"
     },
     "output_type": "display_data"
    }
   ],
   "source": [
    "from sklearn.neighbors import NearestNeighbors\n",
    "\n",
    "# Initialize our neighbors object\n",
    "nbrs = NearestNeighbors(n_neighbors=10, algorithm='auto').fit(images_train)\n",
    "# return the distances and indices of the neighbors nearest to seed\n",
    "distances, indices = nbrs.kneighbors(images_train[seed].reshape((1,-1)))\n",
    "\n",
    "# Plot the 9 nearest neighbors\n",
    "fig = plt.figure()\n",
    "for i in range(1,10):\n",
    "    img = np.reshape(images_train[indices[0][i], :], (8,8))\n",
    "    fig.add_subplot(3, 3, i)\n",
    "    plt.imshow(img)\n",
    "plt.show()"
   ]
  },
  {
   "cell_type": "markdown",
   "metadata": {},
   "source": [
    "### KNN classifier\n",
    "\n",
    "Let's use the supervised classifier, KNeighborsClassifier, to get a feel for how all of this works. "
   ]
  },
  {
   "cell_type": "code",
   "execution_count": 4,
   "metadata": {},
   "outputs": [
    {
     "name": "stdout",
     "output_type": "stream",
     "text": [
      "Predicted class: 7\n",
      "Actual class: 7\n",
      "Probability of each class for this example: [0.   0.   0.   0.   0.   0.   0.   0.95 0.   0.05]\n",
      "\n",
      "\n",
      "Results from running this on all test data...\n",
      "\tPercent correct for all test data: 94.44444444444444%\n",
      "\tPercent correct for all test data (weighted): 100.0%\n"
     ]
    }
   ],
   "source": [
    "from sklearn.neighbors import KNeighborsClassifier\n",
    "\n",
    "nbrs_k = KNeighborsClassifier(n_neighbors=20, weights='uniform', algorithm='auto').fit(images_train, imlabels_train)\n",
    "prediction = nbrs_k.predict(images_train[seed].reshape(1,-1))\n",
    "print(f\"Predicted class: {prediction[0]}\")\n",
    "print(f\"Actual class: {imlabels_train[seed]}\")\n",
    "\n",
    "# See if there were any other digits the algorithm thought it could be\n",
    "print(f\"Probability of each class for this example: {nbrs_k.predict_proba(images_train[seed].reshape(1,-1))[0]}\\n\\n\")\n",
    "\n",
    "# Now lets do this for each data in our test set, to see how accurate KNN classifier can be\n",
    "nbrs_k = KNeighborsClassifier(n_neighbors=20, weights='uniform', algorithm='auto').fit(images_test, imlabels_test)\n",
    "\n",
    "# We'll also run a weighted version to see how much this helps (if at all)\n",
    "nbrs_k_weighted = KNeighborsClassifier(n_neighbors=20, weights='distance', algorithm='auto').fit(images_test, imlabels_test) \n",
    "\n",
    "# Some variables to help keep track of how we're doing\n",
    "number_correct = 0\n",
    "number_correct_weighted = 0\n",
    "\n",
    "# Loop over all \n",
    "for index_test in range(len(imlabels_test)):\n",
    "    \n",
    "    prediction = nbrs_k.predict(images_test[index_test].reshape(1,-1))\n",
    "    if prediction[0] == imlabels_test[index_test]:\n",
    "        number_correct += 1\n",
    "    \n",
    "    prediction_weighted = nbrs_k_weighted.predict(images_test[index_test].reshape(1,-1))\n",
    "    if prediction_weighted[0] == imlabels_test[index_test]:\n",
    "        number_correct_weighted += 1\n",
    "print(\"Results from running this on all test data...\")\n",
    "print(f\"\\tPercent correct for all test data: {100*number_correct/len(imlabels_test)}%\")\n",
    "print(f\"\\tPercent correct for all test data (weighted): {100*number_correct_weighted/len(imlabels_test)}%\")"
   ]
  },
  {
   "cell_type": "markdown",
   "metadata": {},
   "source": [
    "Wow! Can't beat 100%. Weighting the neighbors by distance ended up working well here, but this is guarunteed to be the case. It could be the case that the closer neighbors just so happen to be the wrong class label, in which case them getting weighted more might be detrimental instead of beneficial.\n",
    "\n",
    "### KNN Regression\n",
    "\n",
    "In case we had a dataset where the labels took on continuous values, we could have still used the nearest neighbors algorithm, and instead of invoking ```KNeighborsClassifier```, which predicts data into discrete classes, we could have used ```KNeighborsRegressor```. The regressor works by taking an average of the K nearest data points to predict the value of point of interest. The syntax is exactly the same for the regressor despite the two estimators targetting different applications.\n"
   ]
  },
  {
   "cell_type": "code",
   "execution_count": 5,
   "metadata": {},
   "outputs": [
    {
     "name": "stdout",
     "output_type": "stream",
     "text": [
      "-0.4848311893692361\n"
     ]
    },
    {
     "data": {
      "text/plain": [
       "<matplotlib.collections.PathCollection at 0x23a68bf32e8>"
      ]
     },
     "execution_count": 5,
     "metadata": {},
     "output_type": "execute_result"
    },
    {
     "data": {
      "image/png": "[encoded data removed]",
      "text/plain": [
       "<Figure size 432x288 with 1 Axes>"
      ]
     },
     "metadata": {
      "needs_background": "light"
     },
     "output_type": "display_data"
    }
   ],
   "source": [
    "from sklearn.neighbors import KNeighborsRegressor\n",
    "\n",
    "nbrs_k_regressor = KNeighborsRegressor().fit(features_train, prices_train)\n",
    "\n",
    "print(nbrs_k_regressor.score(features_test, prices_test))\n",
    "\n",
    "pred = nbrs_k_regressor.predict(features_test)\n",
    "\n",
    "fig = plt.figure()\n",
    "plt.scatter(pred, prices_test)\n",
    "\n"
   ]
  },
  {
   "cell_type": "markdown",
   "metadata": {},
   "source": [
    "\n",
    "### KNN Nearest Centroid Classifier\n",
    "\n",
    "An alternative flavor of the supervised KNN classifier is to use nearest-centroid classification, meaning we will classify a data point as the label of the nearest centroid. Running this classifier is similar as before:"
   ]
  },
  {
   "cell_type": "code",
   "execution_count": 6,
   "metadata": {},
   "outputs": [
    {
     "name": "stdout",
     "output_type": "stream",
     "text": [
      "Percent correct for all test data (centroid method): 85.0%\n"
     ]
    }
   ],
   "source": [
    "from sklearn.neighbors import NearestCentroid\n",
    "\n",
    "nbrs_k_centroid = NearestCentroid().fit(images_train, imlabels_train)\n",
    "\n",
    "number_correct_centroid = 0\n",
    "\n",
    "# Loop over all \n",
    "for index_test in range(len(imlabels_test)):\n",
    "    \n",
    "    prediction_centroid = nbrs_k_centroid.predict(images_test[index_test].reshape(1,-1))\n",
    "    if prediction_centroid[0] == imlabels_test[index_test]:\n",
    "        number_correct_centroid += 1\n",
    "\n",
    "print(f\"Percent correct for all test data (centroid method): {100*number_correct_centroid/len(imlabels_test)}%\")"
   ]
  },
  {
   "cell_type": "markdown",
   "metadata": {},
   "source": [
    "## 2. Naive Bayes Classifier\n",
    "\n",
    "Below: multinomial (several classes) is more accurate representation of the distribution than Gaussian (which is for continuous)"
   ]
  },
  {
   "cell_type": "code",
   "execution_count": 7,
   "metadata": {},
   "outputs": [
    {
     "name": "stdout",
     "output_type": "stream",
     "text": [
      "Naive Bayes Classifier (multinomial distribution)...\n",
      "\tPercent correct for all test data: 83.33333333333333%\n"
     ]
    }
   ],
   "source": [
    "from sklearn.naive_bayes import MultinomialNB\n",
    "\n",
    "mnb = MultinomialNB().fit(images_train, imlabels_train)\n",
    "\n",
    "number_correct_mnb = 0\n",
    "\n",
    "for index_test in range(len(imlabels_test)):\n",
    "    prediction_mnb = mnb.predict(images_test[index_test,:].reshape(1,-1))[0]\n",
    "    if prediction_mnb == imlabels_test[index_test]:\n",
    "        number_correct_mnb += 1\n",
    "\n",
    "print(\"Naive Bayes Classifier (multinomial distribution)...\")\n",
    "print(f\"\\tPercent correct for all test data: {100*number_correct_mnb/len(imlabels_test)}%\")"
   ]
  },
  {
   "cell_type": "markdown",
   "metadata": {},
   "source": [
    "Not quite as accurate on this particular data set as the nearest neighbor classifiers were. Naive Bayes models are simple and hence fast (both to develop and to compute a result), and they work relatively well even in a paucity of training data. Because of the core assumption made about the conditionally indepedent relationship between features, the Naive Bayes method also extends well to high dimensional data with a lot of features; the posterior distribution simply reduces to that many (assumingly) independent posteriors of a single variable. \n",
    "\n",
    "$P(x_i | y)$ was taken to be a multinomial distribution above. When that assumption doesn't hold, there are alternative distributions (such as Gaussian, complement, and Bernoulli) in the SciKit-Learn naive_bayes module which still permit the necessary assumptions of conditional independence.\n",
    "\n",
    "## 3. Logistic Regression\n"
   ]
  },
  {
   "cell_type": "code",
   "execution_count": 8,
   "metadata": {},
   "outputs": [
    {
     "name": "stdout",
     "output_type": "stream",
     "text": [
      "[2]\n",
      "0.9\n"
     ]
    }
   ],
   "source": [
    "from sklearn.linear_model import LogisticRegression\n",
    "\n",
    "lr = LogisticRegression(max_iter=100000,multi_class='multinomial').fit(images_train,imlabels_train)\n",
    "print(lr.predict(images_test[0,:].reshape(1,-1)))\n",
    "print(lr.score(images_test, imlabels_test))"
   ]
  },
  {
   "cell_type": "markdown",
   "metadata": {},
   "source": [
    "## 4. Support Vector Machines\n",
    "\n",
    "The next classifier that we will demonstrate is the method of support vector machines. SVMs provide a sophisticated way of determining decision boundaries by the use of *support vectors*, which are the vectors in the set that anchor the decision boundary and thus would change this boundary if removed. The linear combination of a given sample's features determines whether the SVM will label the sample as one class or the other; \n",
    "\n",
    "(the weights of this linear combination are pruned)(?)\n",
    "\n",
    "Support vector machine classification works as one versus one or one versus all, so for each class we need a set of parameters/coefficients, and then when we try to predict a new data we try all sets of coefficients on it to see which yields the \"strongest\" results. \n",
    "\n",
    "We are interested in finding the weights (for each feature) that will maximize the margin between classes. For a feature $x_i$, we define the positive and negative hyperplanes as \n",
    "<br><br>\n",
    "$$H_+: w \\cdot x_i + b = +1$$\n",
    "$$H_-: w \\cdot x_i + b = -1$$\n",
    "<br>\n",
    "\n",
    "[not finished]"
   ]
  },
  {
   "cell_type": "code",
   "execution_count": 9,
   "metadata": {},
   "outputs": [
    {
     "name": "stdout",
     "output_type": "stream",
     "text": [
      "Support Vector Classifier...\n",
      "\tPercent correct for all test data: 94.16666666666667%\n"
     ]
    },
    {
     "data": {
      "text/plain": [
       "array([[34,  0,  0,  0,  0,  0,  0,  0,  0,  0],\n",
       "       [ 0, 36,  0,  0,  0,  0,  0,  0,  1,  0],\n",
       "       [ 0,  0, 35,  0,  0,  0,  0,  0,  0,  0],\n",
       "       [ 0,  0,  0, 27,  0,  0,  0,  0,  0,  1],\n",
       "       [ 1,  0,  0,  0, 34,  0,  0,  0,  0,  0],\n",
       "       [ 0,  0,  0,  2,  0, 37,  0,  0,  0,  1],\n",
       "       [ 0,  0,  0,  0,  0,  0, 37,  0,  0,  0],\n",
       "       [ 0,  0,  0,  2,  0,  0,  0, 35,  0,  1],\n",
       "       [ 0,  0,  0,  6,  1,  0,  0,  1, 31,  1],\n",
       "       [ 0,  0,  0,  0,  2,  0,  0,  0,  1, 33]], dtype=int64)"
      ]
     },
     "execution_count": 9,
     "metadata": {},
     "output_type": "execute_result"
    }
   ],
   "source": [
    "from sklearn.svm import SVC\n",
    "from sklearn.metrics import confusion_matrix\n",
    "\n",
    "svm_classifier = SVC(gamma='scale').fit(images_train, imlabels_train)\n",
    "\n",
    "number_correct_svc = 0\n",
    "preds = []\n",
    "\n",
    "for label_index in range(len(imlabels_test)):\n",
    "    \n",
    "    pred = svm_classifier.predict(images_test[label_index].reshape(1,-1))\n",
    "    if pred[0] == imlabels_test[label_index]:\n",
    "        number_correct_svc += 1\n",
    "    \n",
    "    preds.append(pred[0])\n",
    "\n",
    "print(\"Support Vector Classifier...\")\n",
    "print(f\"\\tPercent correct for all test data: {100*number_correct_svc/len(imlabels_test)}%\")\n",
    "\n",
    "confusion_matrix(imlabels_test, preds)"
   ]
  },
  {
   "cell_type": "code",
   "execution_count": 16,
   "metadata": {},
   "outputs": [
    {
     "name": "stdout",
     "output_type": "stream",
     "text": [
      "0.11234310240423619\n"
     ]
    },
    {
     "data": {
      "text/plain": [
       "(array([ 1.,  2.,  0.,  0.,  0.,  1.,  1.,  2.,  0.,  5.,  6.,  9.,  2.,\n",
       "         7.,  5.,  9., 12.,  4.,  8.,  6.,  7.,  5.,  4.,  3.,  1.,  0.,\n",
       "         0.,  1.,  0.,  1.]),\n",
       " array([-15.3306133 , -14.44763969, -13.56466609, -12.68169249,\n",
       "        -11.79871889, -10.91574529, -10.03277169,  -9.14979809,\n",
       "         -8.26682449,  -7.38385088,  -6.50087728,  -5.61790368,\n",
       "         -4.73493008,  -3.85195648,  -2.96898288,  -2.08600928,\n",
       "         -1.20303568,  -0.32006207,   0.56291153,   1.44588513,\n",
       "          2.32885873,   3.21183233,   4.09480593,   4.97777953,\n",
       "          5.86075313,   6.74372674,   7.62670034,   8.50967394,\n",
       "          9.39264754,  10.27562114,  11.15859474]),\n",
       " <a list of 30 Patch objects>)"
      ]
     },
     "execution_count": 16,
     "metadata": {},
     "output_type": "execute_result"
    },
    {
     "data": {
      "image/png": "[encoded data removed]",
      "text/plain": [
       "<Figure size 432x288 with 1 Axes>"
      ]
     },
     "metadata": {
      "needs_background": "light"
     },
     "output_type": "display_data"
    }
   ],
   "source": [
    "from sklearn.svm import SVR\n",
    "\n",
    "svm_regressor = SVR(kernel='poly',gamma='scale',degree=1).fit(features_train, prices_train)\n",
    "\n",
    "preds = svm_regressor.predict(features_test)\n",
    "\n",
    "print(svm_regressor.score(features_test,prices_test))\n",
    "\n",
    "fig = plt.figure()\n",
    "plt.hist(preds-prices_test, bins=30)\n",
    "\n",
    "\n",
    "\n"
   ]
  },
  {
   "cell_type": "markdown",
   "metadata": {},
   "source": [
    "## 5. Random Forests\n",
    "\n"
   ]
  },
  {
   "cell_type": "code",
   "execution_count": 46,
   "metadata": {},
   "outputs": [
    {
     "name": "stdout",
     "output_type": "stream",
     "text": [
      "[[34  0  0  0  1  0  0  0  0  0]\n",
      " [ 0 33  0  0  0  0  0  0  0  3]\n",
      " [ 1  0 34  0  0  0  0  0  0  0]\n",
      " [ 0  0  0 28  0  3  0  0  6  0]\n",
      " [ 0  0  0  0 34  0  0  3  0  0]\n",
      " [ 0  0  0  0  0 37  0  0  0  0]\n",
      " [ 0  0  0  0  0  0 37  0  0  0]\n",
      " [ 0  0  0  0  0  0  0 35  1  0]\n",
      " [ 0  2  0  0  1  0  0  1 28  1]\n",
      " [ 0  0  0  0  0  1  0  0  1 35]]\n"
     ]
    },
    {
     "data": {
      "image/png": "[encoded data removed]",
      "text/plain": [
       "<Figure size 432x288 with 1 Axes>"
      ]
     },
     "metadata": {
      "needs_background": "light"
     },
     "output_type": "display_data"
    }
   ],
   "source": [
    "from sklearn.ensemble import RandomForestClassifier\n",
    "from sklearn.ensemble import RandomForestRegressor\n",
    "\n",
    "print_3_8_mixups = False\n",
    "\n",
    "rfc = RandomForestClassifier().fit(images_train, imlabels_train)\n",
    "preds_cl = rfc.predict(images_test)\n",
    "cnf_mat = confusion_matrix(imlabels_test, preds_cl)\n",
    "wrong = [(i, preds_cl[i], imlabels_test[i]) for i in range(len(imlabels_test)) if imlabels_test[i] != preds_cl[i]]\n",
    "print(cnf_mat)\n",
    "\n",
    "rfr = RandomForestRegressor().fit(features_train, prices_train)\n",
    "preds_reg = rfr.predict(features_test)\n",
    "\n",
    "fig = plt.figure()\n",
    "plt.hist(preds_reg-prices_test, bins=30)\n",
    "\n",
    "\n",
    "if print_3_8_mixups == True:\n",
    "    bad_handwriting = [images_test[wrong[i][0]] for i in range(len(wrong)) if wrong[i][2]==3 and wrong[i][1]==8 ]\n",
    "\n",
    "    for i in range(len(bad_handwriting)):\n",
    "        fig = plt.figure()\n",
    "        plt.imshow(bad_handwriting[i].reshape(8,8))"
   ]
  },
  {
   "cell_type": "code",
   "execution_count": 42,
   "metadata": {},
   "outputs": [
    {
     "name": "stdout",
     "output_type": "stream",
     "text": [
      "(6, 64)\n"
     ]
    },
    {
     "data": {
      "image/png": "[encoded data removed]",
      "text/plain": [
       "<Figure size 432x288 with 1 Axes>"
      ]
     },
     "metadata": {
      "needs_background": "light"
     },
     "output_type": "display_data"
    },
    {
     "data": {
      "image/png": "[encoded data removed]",
      "text/plain": [
       "<Figure size 432x288 with 1 Axes>"
      ]
     },
     "metadata": {
      "needs_background": "light"
     },
     "output_type": "display_data"
    },
    {
     "data": {
      "image/png": "[encoded data removed]",
      "text/plain": [
       "<Figure size 432x288 with 1 Axes>"
      ]
     },
     "metadata": {
      "needs_background": "light"
     },
     "output_type": "display_data"
    },
    {
     "data": {
      "image/png": "[encoded data removed]",
      "text/plain": [
       "<Figure size 432x288 with 1 Axes>"
      ]
     },
     "metadata": {
      "needs_background": "light"
     },
     "output_type": "display_data"
    },
    {
     "data": {
      "image/png": "[encoded data removed]",
      "text/plain": [
       "<Figure size 432x288 with 1 Axes>"
      ]
     },
     "metadata": {
      "needs_background": "light"
     },
     "output_type": "display_data"
    },
    {
     "data": {
      "image/png": "[encoded data removed]",
      "text/plain": [
       "<Figure size 432x288 with 1 Axes>"
      ]
     },
     "metadata": {
      "needs_background": "light"
     },
     "output_type": "display_data"
    }
   ],
   "source": []
  },
  {
   "cell_type": "markdown",
   "metadata": {},
   "source": [
    "# Grid search and cross validation of model parameters\n",
    "\n",
    "We have just explored the basic syntax and mechanics of some of Sklearn's common classification and regression algorithms. This is great, but how do we know that the models we have chosen are \"good\", and how can we tell that the parameters we are using are giving optimal results? Data scientists use cross-validation and grid search for the testing and tuning of their models. These two strategies for model optimization are straight forward, and explained below.\n",
    "\n",
    "**Cross validation**\n",
    "In cross validation (CV), we train and test our models with a slightly modified version of train/test split used in the above examples. We first partition the data into a training set and a test set (just as we did originally), but now we will *further* subdivide the **training** set into *k* subsets. Cross validation then proceeds as follows:\n",
    "1. Remove the first subset $k_0$ from our training set, and train the model with the other *k-1* subsets.\n",
    "2. Validate the model using $k_0$ to obtain some model accuracy metrics for this test set.\n",
    "3. Rotate $k_0$ into the training set and $k_1$ into the test set, and perform validation again recording the same accuracy metrics for this test set\n",
    "4. Keep repeating until all *k* subsets have been used as a test set.\n",
    "5. Average all of the *k* accuracy metrics obtained to get a performance measure for the model\n",
    "\n",
    "Cross validation allows us to re-use data when hyperparameter tuning with grid search, while only using every data point in the set once and only once for testing of the model/parameters. \n",
    "\n",
    "**Grid Search**\n",
    "All of the models explored here involve *hyperparameters*, or parameters that the programmer must set in advance of fitting the estimator which can have a great influence on the model's performance. CV can be used in conjuction with grid search techniques to search the hyperparameter space by sweeping over specified ranges of hyperparameter values.\n",
    "\n",
    "https://scikit-learn.org/stable/modules/grid_search.html#grid-search\n",
    "https://scikit-learn.org/stable/auto_examples/model_selection/plot_grid_search_digits.html\n",
    "\n",
    "\n",
    "[Unfinished]"
   ]
  },
  {
   "cell_type": "code",
   "execution_count": null,
   "metadata": {},
   "outputs": [],
   "source": []
  }
 ],
 "metadata": {
  "kernelspec": {
   "display_name": "Python 3",
   "language": "python",
   "name": "python3"
  },
  "language_info": {
   "codemirror_mode": {
    "name": "ipython",
    "version": 3
   },
   "file_extension": ".py",
   "mimetype": "text/x-python",
   "name": "python",
   "nbconvert_exporter": "python",
   "pygments_lexer": "ipython3",
   "version": "3.7.2"
  }
 },
 "nbformat": 4,
 "nbformat_minor": 2
}
